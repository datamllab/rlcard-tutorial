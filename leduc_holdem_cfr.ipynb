{
  "nbformat": 4,
  "nbformat_minor": 0,
  "metadata": {
    "colab": {
      "name": "leduc_holdem_cfr.ipynb",
      "provenance": [],
      "collapsed_sections": [],
      "include_colab_link": true
    },
    "kernelspec": {
      "name": "python3",
      "display_name": "Python 3"
    }
  },
  "cells": [
    {
      "cell_type": "markdown",
      "metadata": {
        "id": "view-in-github",
        "colab_type": "text"
      },
      "source": [
        "<a href=\"https://colab.research.google.com/github/mia1996/rlcard-tutoirial/blob/master/leduc_holdem_cfr.ipynb\" target=\"_parent\"><img src=\"https://colab.research.google.com/assets/colab-badge.svg\" alt=\"Open In Colab\"/></a>"
      ]
    },
    {
      "cell_type": "markdown",
      "metadata": {
        "id": "miBl4S8JARzX"
      },
      "source": [
        "\n",
        "\n",
        "# <a href='https://github.com/datamllab/rlcard'> <center> <img src='https://miro.medium.com/max/1000/1*_9abDpNTM9Cbsd2HEXYm9Q.png' width=500 class='center' /></a> \n",
        "\n",
        "## **Training CFR on Leduc Hold'em**\n",
        "In this tutorial, we will showcase a more advanced algorithm CFR, which uses `step` and `step_back` to traverse the game tree."
      ]
    },
    {
      "cell_type": "markdown",
      "metadata": {
        "id": "DvSQRtFHfQde"
      },
      "source": [
        "First, we install RLcard and PyTorch."
      ]
    },
    {
      "cell_type": "code",
      "metadata": {
        "id": "zQ8CiXAJjQGi",
        "outputId": "f62f9be2-2b1e-4d34-a254-a5ddef2f5962",
        "colab": {
          "base_uri": "https://localhost:8080/"
        }
      },
      "source": [
        "!pip install rlcard[torch]"
      ],
      "execution_count": null,
      "outputs": [
        {
          "output_type": "stream",
          "name": "stdout",
          "text": [
            "Collecting rlcard[torch]\n",
            "  Downloading rlcard-1.0.7.tar.gz (268 kB)\n",
            "\u001b[?25l\r\u001b[K     |█▏                              | 10 kB 13.5 MB/s eta 0:00:01\r\u001b[K     |██▍                             | 20 kB 14.3 MB/s eta 0:00:01\r\u001b[K     |███▋                            | 30 kB 9.7 MB/s eta 0:00:01\r\u001b[K     |████▉                           | 40 kB 5.0 MB/s eta 0:00:01\r\u001b[K     |██████                          | 51 kB 4.7 MB/s eta 0:00:01\r\u001b[K     |███████▎                        | 61 kB 5.5 MB/s eta 0:00:01\r\u001b[K     |████████▌                       | 71 kB 5.5 MB/s eta 0:00:01\r\u001b[K     |█████████▊                      | 81 kB 5.3 MB/s eta 0:00:01\r\u001b[K     |███████████                     | 92 kB 5.9 MB/s eta 0:00:01\r\u001b[K     |████████████▏                   | 102 kB 3.0 MB/s eta 0:00:01\r\u001b[K     |█████████████▍                  | 112 kB 3.0 MB/s eta 0:00:01\r\u001b[K     |██████████████▋                 | 122 kB 3.0 MB/s eta 0:00:01\r\u001b[K     |███████████████▉                | 133 kB 3.0 MB/s eta 0:00:01\r\u001b[K     |█████████████████               | 143 kB 3.0 MB/s eta 0:00:01\r\u001b[K     |██████████████████▎             | 153 kB 3.0 MB/s eta 0:00:01\r\u001b[K     |███████████████████▌            | 163 kB 3.0 MB/s eta 0:00:01\r\u001b[K     |████████████████████▊           | 174 kB 3.0 MB/s eta 0:00:01\r\u001b[K     |██████████████████████          | 184 kB 3.0 MB/s eta 0:00:01\r\u001b[K     |███████████████████████▏        | 194 kB 3.0 MB/s eta 0:00:01\r\u001b[K     |████████████████████████▍       | 204 kB 3.0 MB/s eta 0:00:01\r\u001b[K     |█████████████████████████▋      | 215 kB 3.0 MB/s eta 0:00:01\r\u001b[K     |██████████████████████████▉     | 225 kB 3.0 MB/s eta 0:00:01\r\u001b[K     |████████████████████████████    | 235 kB 3.0 MB/s eta 0:00:01\r\u001b[K     |█████████████████████████████▎  | 245 kB 3.0 MB/s eta 0:00:01\r\u001b[K     |██████████████████████████████▌ | 256 kB 3.0 MB/s eta 0:00:01\r\u001b[K     |███████████████████████████████▊| 266 kB 3.0 MB/s eta 0:00:01\r\u001b[K     |████████████████████████████████| 268 kB 3.0 MB/s \n",
            "\u001b[?25hRequirement already satisfied: numpy>=1.16.3 in /usr/local/lib/python3.7/dist-packages (from rlcard[torch]) (1.21.5)\n",
            "Requirement already satisfied: termcolor in /usr/local/lib/python3.7/dist-packages (from rlcard[torch]) (1.1.0)\n",
            "Requirement already satisfied: torch in /usr/local/lib/python3.7/dist-packages (from rlcard[torch]) (1.10.0+cu111)\n",
            "Collecting GitPython\n",
            "  Downloading GitPython-3.1.27-py3-none-any.whl (181 kB)\n",
            "\u001b[K     |████████████████████████████████| 181 kB 45.4 MB/s \n",
            "\u001b[?25hCollecting gitdb2\n",
            "  Downloading gitdb2-4.0.2-py3-none-any.whl (1.1 kB)\n",
            "Requirement already satisfied: matplotlib in /usr/local/lib/python3.7/dist-packages (from rlcard[torch]) (3.2.2)\n",
            "Collecting gitdb>=4.0.1\n",
            "  Downloading gitdb-4.0.9-py3-none-any.whl (63 kB)\n",
            "\u001b[K     |████████████████████████████████| 63 kB 1.4 MB/s \n",
            "\u001b[?25hCollecting smmap<6,>=3.0.1\n",
            "  Downloading smmap-5.0.0-py3-none-any.whl (24 kB)\n",
            "Requirement already satisfied: typing-extensions>=3.7.4.3 in /usr/local/lib/python3.7/dist-packages (from GitPython->rlcard[torch]) (3.10.0.2)\n",
            "Requirement already satisfied: kiwisolver>=1.0.1 in /usr/local/lib/python3.7/dist-packages (from matplotlib->rlcard[torch]) (1.4.0)\n",
            "Requirement already satisfied: python-dateutil>=2.1 in /usr/local/lib/python3.7/dist-packages (from matplotlib->rlcard[torch]) (2.8.2)\n",
            "Requirement already satisfied: cycler>=0.10 in /usr/local/lib/python3.7/dist-packages (from matplotlib->rlcard[torch]) (0.11.0)\n",
            "Requirement already satisfied: pyparsing!=2.0.4,!=2.1.2,!=2.1.6,>=2.0.1 in /usr/local/lib/python3.7/dist-packages (from matplotlib->rlcard[torch]) (3.0.7)\n",
            "Requirement already satisfied: six>=1.5 in /usr/local/lib/python3.7/dist-packages (from python-dateutil>=2.1->matplotlib->rlcard[torch]) (1.15.0)\n",
            "Building wheels for collected packages: rlcard\n",
            "  Building wheel for rlcard (setup.py) ... \u001b[?25l\u001b[?25hdone\n",
            "  Created wheel for rlcard: filename=rlcard-1.0.7-py3-none-any.whl size=325373 sha256=e59625c8a510c5eecf50ecc571cc57be45f37daf110a3cd1d59996d1ff298f64\n",
            "  Stored in directory: /root/.cache/pip/wheels/8a/90/bd/bc402a48ca90970c9a7c2c4387dcb885fdf6073ec231a605ad\n",
            "Successfully built rlcard\n",
            "Installing collected packages: smmap, gitdb, rlcard, GitPython, gitdb2\n",
            "Successfully installed GitPython-3.1.27 gitdb-4.0.9 gitdb2-4.0.2 rlcard-1.0.7 smmap-5.0.0\n"
          ]
        }
      ]
    },
    {
      "cell_type": "markdown",
      "source": [
        "Then we import all the classes and functions we need."
      ],
      "metadata": {
        "id": "0ToWVZr881JH"
      }
    },
    {
      "cell_type": "code",
      "source": [
        "import rlcard\n",
        "from rlcard.agents import (\n",
        "    CFRAgent,\n",
        "    RandomAgent,\n",
        ")\n",
        "from rlcard.utils import (\n",
        "    tournament,\n",
        "    Logger,\n",
        "    plot_curve,\n",
        ")"
      ],
      "metadata": {
        "id": "pfmdahQ_86_W"
      },
      "execution_count": null,
      "outputs": []
    },
    {
      "cell_type": "markdown",
      "source": [
        "We make two environments, where one allows `step_back` so that CFR can traverse the tree, and the other for evaluation only."
      ],
      "metadata": {
        "id": "dRXGan5w9BLT"
      }
    },
    {
      "cell_type": "code",
      "source": [
        "env = rlcard.make(\n",
        "        'leduc-holdem',\n",
        "        config={\n",
        "            'allow_step_back': True,\n",
        "        }\n",
        "    )\n",
        "eval_env = rlcard.make(\n",
        "    'leduc-holdem',\n",
        ")"
      ],
      "metadata": {
        "id": "oN7k8icR89iB"
      },
      "execution_count": null,
      "outputs": []
    },
    {
      "cell_type": "markdown",
      "source": [
        "We create the CFR agent."
      ],
      "metadata": {
        "id": "qd5fe5W_9Ukz"
      }
    },
    {
      "cell_type": "code",
      "metadata": {
        "id": "4_A_Br3Jj0xW"
      },
      "source": [
        "agent = CFRAgent(\n",
        "    env,\n",
        "    \"experiments/leduc_holdem_cfr_result/cfr_model\",\n",
        ")"
      ],
      "execution_count": null,
      "outputs": []
    },
    {
      "cell_type": "markdown",
      "source": [
        "Here, we save the trained model in the path `experiments/leduc_holdem_cfr_result/cfr_model`. Then we use a random agent as the opponent."
      ],
      "metadata": {
        "id": "yYvb4MDz9qH6"
      }
    },
    {
      "cell_type": "code",
      "source": [
        "eval_env.set_agents([\n",
        "    agent,\n",
        "    RandomAgent(num_actions=env.num_actions),\n",
        "])"
      ],
      "metadata": {
        "id": "C4cq5mA-90W_"
      },
      "execution_count": null,
      "outputs": []
    },
    {
      "cell_type": "markdown",
      "metadata": {
        "id": "QOMi0W94fSH7"
      },
      "source": [
        "Now we start training for `1000` iterations, i.e., 1000 games."
      ]
    },
    {
      "cell_type": "code",
      "source": [
        "with Logger(\"experiments/leduc_holdem_cfr_result\") as logger:\n",
        "    for episode in range(1000):\n",
        "        agent.train()\n",
        "        print('\\rIteration {}'.format(episode), end='')\n",
        "        # Evaluate the performance. Play with Random agents.\n",
        "        if episode % 50 == 0:\n",
        "            logger.log_performance(\n",
        "                env.timestep,\n",
        "                tournament(\n",
        "                    eval_env,\n",
        "                    10000,\n",
        "                )[0]\n",
        "            )\n",
        "\n",
        "    # Get the paths\n",
        "    csv_path, fig_path = logger.csv_path, logger.fig_path"
      ],
      "metadata": {
        "id": "MTbACbO4-D_c",
        "outputId": "f3841a04-9990-405c-a162-846f97abf816",
        "colab": {
          "base_uri": "https://localhost:8080/"
        }
      },
      "execution_count": null,
      "outputs": [
        {
          "output_type": "stream",
          "name": "stdout",
          "text": [
            "Iteration 0\n",
            "----------------------------------------\n",
            "  timestep     |  192\n",
            "  reward       |  5e-05\n",
            "----------------------------------------\n",
            "Iteration 50\n",
            "----------------------------------------\n",
            "  timestep     |  9792\n",
            "  reward       |  0.3098\n",
            "----------------------------------------\n",
            "Iteration 100\n",
            "----------------------------------------\n",
            "  timestep     |  19392\n",
            "  reward       |  0.43155\n",
            "----------------------------------------\n",
            "Iteration 150\n",
            "----------------------------------------\n",
            "  timestep     |  28992\n",
            "  reward       |  0.5922\n",
            "----------------------------------------\n",
            "Iteration 200\n",
            "----------------------------------------\n",
            "  timestep     |  38592\n",
            "  reward       |  0.5821\n",
            "----------------------------------------\n",
            "Iteration 250\n",
            "----------------------------------------\n",
            "  timestep     |  48192\n",
            "  reward       |  0.62535\n",
            "----------------------------------------\n",
            "Iteration 300\n",
            "----------------------------------------\n",
            "  timestep     |  57792\n",
            "  reward       |  0.70355\n",
            "----------------------------------------\n",
            "Iteration 350\n",
            "----------------------------------------\n",
            "  timestep     |  67392\n",
            "  reward       |  0.7055\n",
            "----------------------------------------\n",
            "Iteration 400\n",
            "----------------------------------------\n",
            "  timestep     |  76992\n",
            "  reward       |  0.7063\n",
            "----------------------------------------\n",
            "Iteration 450\n",
            "----------------------------------------\n",
            "  timestep     |  86592\n",
            "  reward       |  0.7075\n",
            "----------------------------------------\n",
            "Iteration 500\n",
            "----------------------------------------\n",
            "  timestep     |  96192\n",
            "  reward       |  0.70215\n",
            "----------------------------------------\n",
            "Iteration 550\n",
            "----------------------------------------\n",
            "  timestep     |  105792\n",
            "  reward       |  0.71865\n",
            "----------------------------------------\n",
            "Iteration 600\n",
            "----------------------------------------\n",
            "  timestep     |  115392\n",
            "  reward       |  0.74505\n",
            "----------------------------------------\n",
            "Iteration 650\n",
            "----------------------------------------\n",
            "  timestep     |  124992\n",
            "  reward       |  0.72085\n",
            "----------------------------------------\n",
            "Iteration 700\n",
            "----------------------------------------\n",
            "  timestep     |  134592\n",
            "  reward       |  0.7117\n",
            "----------------------------------------\n",
            "Iteration 750\n",
            "----------------------------------------\n",
            "  timestep     |  144192\n",
            "  reward       |  0.71705\n",
            "----------------------------------------\n",
            "Iteration 800\n",
            "----------------------------------------\n",
            "  timestep     |  153792\n",
            "  reward       |  0.7401\n",
            "----------------------------------------\n",
            "Iteration 850\n",
            "----------------------------------------\n",
            "  timestep     |  163392\n",
            "  reward       |  0.7587\n",
            "----------------------------------------\n",
            "Iteration 900\n",
            "----------------------------------------\n",
            "  timestep     |  172992\n",
            "  reward       |  0.75715\n",
            "----------------------------------------\n",
            "Iteration 950\n",
            "----------------------------------------\n",
            "  timestep     |  182592\n",
            "  reward       |  0.7278\n",
            "----------------------------------------\n",
            "Iteration 999\n",
            "Logs saved in experiments/leduc_holdem_cfr_result\n"
          ]
        }
      ]
    },
    {
      "cell_type": "markdown",
      "source": [
        "We can plot the learning curve"
      ],
      "metadata": {
        "id": "d-qU4hS4-hI5"
      }
    },
    {
      "cell_type": "code",
      "metadata": {
        "id": "l_8Kuf47kghG",
        "colab": {
          "base_uri": "https://localhost:8080/",
          "height": 279
        },
        "outputId": "f6bc9709-e500-492c-9e88-348532ed5450"
      },
      "source": [
        "plot_curve(csv_path, fig_path, 'cfr')"
      ],
      "execution_count": null,
      "outputs": [
        {
          "output_type": "display_data",
          "data": {
            "text/plain": [
              "<Figure size 432x288 with 1 Axes>"
            ],
            "image/png": "[encoded data removed]"
          },
          "metadata": {
            "needs_background": "light"
          }
        }
      ]
    },
    {
      "cell_type": "markdown",
      "metadata": {
        "id": "1QRAbZ3vfwtW"
      },
      "source": [
        "Good job! Now you have your trained CFR agent on Leduc Hold'em!"
      ]
    }
  ]
}