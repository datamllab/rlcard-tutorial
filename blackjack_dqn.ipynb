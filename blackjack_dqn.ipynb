{
  "nbformat": 4,
  "nbformat_minor": 0,
  "metadata": {
    "colab": {
      "name": "Copy of blackjack_dqn.ipynb",
      "provenance": [],
      "collapsed_sections": [],
      "include_colab_link": true
    },
    "kernelspec": {
      "name": "python3",
      "display_name": "Python 3"
    }
  },
  "cells": [
    {
      "cell_type": "markdown",
      "metadata": {
        "id": "view-in-github",
        "colab_type": "text"
      },
      "source": [
        "<a href=\"https://colab.research.google.com/github/mia1996/rlcard-tutoirial/blob/master/blackjack_dqn.ipynb\" target=\"_parent\"><img src=\"https://colab.research.google.com/assets/colab-badge.svg\" alt=\"Open In Colab\"/></a>"
      ]
    },
    {
      "cell_type": "markdown",
      "metadata": {
        "id": "miBl4S8JARzX"
      },
      "source": [
        "\n",
        "\n",
        "# <a href='https://github.com/datamllab/rlcard'> <center> <img src='https://miro.medium.com/max/1000/1*_9abDpNTM9Cbsd2HEXYm9Q.png' width=500 class='center' /></a> \n",
        "\n",
        "## **Deep-Q Learning on Blackjack**\n",
        "This example is to use Deep-Q learning to train an agent on Blackjack. We aim to use this example to show how reinforcement learning algorithms can be developed and applied in our toolkit. To be self-contained, we first install rlcard."
      ]
    },
    {
      "cell_type": "code",
      "metadata": {
        "id": "zQ8CiXAJjQGi",
        "outputId": "bda614ff-35d4-4ba3-d171-374c8142af0d",
        "colab": {
          "base_uri": "https://localhost:8080/"
        }
      },
      "source": [
        "!pip install rlcard[torch]"
      ],
      "execution_count": null,
      "outputs": [
        {
          "output_type": "stream",
          "name": "stdout",
          "text": [
            "Collecting rlcard[torch]\n",
            "  Downloading rlcard-1.0.7.tar.gz (268 kB)\n",
            "\u001b[?25l\r\u001b[K     |█▏                              | 10 kB 16.1 MB/s eta 0:00:01\r\u001b[K     |██▍                             | 20 kB 18.6 MB/s eta 0:00:01\r\u001b[K     |███▋                            | 30 kB 21.5 MB/s eta 0:00:01\r\u001b[K     |████▉                           | 40 kB 20.1 MB/s eta 0:00:01\r\u001b[K     |██████                          | 51 kB 16.5 MB/s eta 0:00:01\r\u001b[K     |███████▎                        | 61 kB 18.6 MB/s eta 0:00:01\r\u001b[K     |████████▌                       | 71 kB 16.1 MB/s eta 0:00:01\r\u001b[K     |█████████▊                      | 81 kB 7.0 MB/s eta 0:00:01\r\u001b[K     |███████████                     | 92 kB 7.6 MB/s eta 0:00:01\r\u001b[K     |████████████▏                   | 102 kB 8.3 MB/s eta 0:00:01\r\u001b[K     |█████████████▍                  | 112 kB 8.3 MB/s eta 0:00:01\r\u001b[K     |██████████████▋                 | 122 kB 8.3 MB/s eta 0:00:01\r\u001b[K     |███████████████▉                | 133 kB 8.3 MB/s eta 0:00:01\r\u001b[K     |█████████████████               | 143 kB 8.3 MB/s eta 0:00:01\r\u001b[K     |██████████████████▎             | 153 kB 8.3 MB/s eta 0:00:01\r\u001b[K     |███████████████████▌            | 163 kB 8.3 MB/s eta 0:00:01\r\u001b[K     |████████████████████▊           | 174 kB 8.3 MB/s eta 0:00:01\r\u001b[K     |██████████████████████          | 184 kB 8.3 MB/s eta 0:00:01\r\u001b[K     |███████████████████████▏        | 194 kB 8.3 MB/s eta 0:00:01\r\u001b[K     |████████████████████████▍       | 204 kB 8.3 MB/s eta 0:00:01\r\u001b[K     |█████████████████████████▋      | 215 kB 8.3 MB/s eta 0:00:01\r\u001b[K     |██████████████████████████▉     | 225 kB 8.3 MB/s eta 0:00:01\r\u001b[K     |████████████████████████████    | 235 kB 8.3 MB/s eta 0:00:01\r\u001b[K     |█████████████████████████████▎  | 245 kB 8.3 MB/s eta 0:00:01\r\u001b[K     |██████████████████████████████▌ | 256 kB 8.3 MB/s eta 0:00:01\r\u001b[K     |███████████████████████████████▊| 266 kB 8.3 MB/s eta 0:00:01\r\u001b[K     |████████████████████████████████| 268 kB 8.3 MB/s \n",
            "\u001b[?25hRequirement already satisfied: numpy>=1.16.3 in /usr/local/lib/python3.7/dist-packages (from rlcard[torch]) (1.21.5)\n",
            "Requirement already satisfied: termcolor in /usr/local/lib/python3.7/dist-packages (from rlcard[torch]) (1.1.0)\n",
            "Requirement already satisfied: torch in /usr/local/lib/python3.7/dist-packages (from rlcard[torch]) (1.10.0+cu111)\n",
            "Collecting GitPython\n",
            "  Downloading GitPython-3.1.27-py3-none-any.whl (181 kB)\n",
            "\u001b[K     |████████████████████████████████| 181 kB 41.9 MB/s \n",
            "\u001b[?25hCollecting gitdb2\n",
            "  Downloading gitdb2-4.0.2-py3-none-any.whl (1.1 kB)\n",
            "Requirement already satisfied: matplotlib in /usr/local/lib/python3.7/dist-packages (from rlcard[torch]) (3.2.2)\n",
            "Collecting gitdb>=4.0.1\n",
            "  Downloading gitdb-4.0.9-py3-none-any.whl (63 kB)\n",
            "\u001b[K     |████████████████████████████████| 63 kB 922 kB/s \n",
            "\u001b[?25hCollecting smmap<6,>=3.0.1\n",
            "  Downloading smmap-5.0.0-py3-none-any.whl (24 kB)\n",
            "Requirement already satisfied: typing-extensions>=3.7.4.3 in /usr/local/lib/python3.7/dist-packages (from GitPython->rlcard[torch]) (3.10.0.2)\n",
            "Requirement already satisfied: pyparsing!=2.0.4,!=2.1.2,!=2.1.6,>=2.0.1 in /usr/local/lib/python3.7/dist-packages (from matplotlib->rlcard[torch]) (3.0.7)\n",
            "Requirement already satisfied: cycler>=0.10 in /usr/local/lib/python3.7/dist-packages (from matplotlib->rlcard[torch]) (0.11.0)\n",
            "Requirement already satisfied: kiwisolver>=1.0.1 in /usr/local/lib/python3.7/dist-packages (from matplotlib->rlcard[torch]) (1.4.0)\n",
            "Requirement already satisfied: python-dateutil>=2.1 in /usr/local/lib/python3.7/dist-packages (from matplotlib->rlcard[torch]) (2.8.2)\n",
            "Requirement already satisfied: six>=1.5 in /usr/local/lib/python3.7/dist-packages (from python-dateutil>=2.1->matplotlib->rlcard[torch]) (1.15.0)\n",
            "Building wheels for collected packages: rlcard\n",
            "  Building wheel for rlcard (setup.py) ... \u001b[?25l\u001b[?25hdone\n",
            "  Created wheel for rlcard: filename=rlcard-1.0.7-py3-none-any.whl size=325373 sha256=dd6ec050c7312061d299e960ea393b346a9278484233bb6c92c0f87c7b1d4d90\n",
            "  Stored in directory: /root/.cache/pip/wheels/8a/90/bd/bc402a48ca90970c9a7c2c4387dcb885fdf6073ec231a605ad\n",
            "Successfully built rlcard\n",
            "Installing collected packages: smmap, gitdb, rlcard, GitPython, gitdb2\n",
            "Successfully installed GitPython-3.1.27 gitdb-4.0.9 gitdb2-4.0.2 rlcard-1.0.7 smmap-5.0.0\n"
          ]
        }
      ]
    },
    {
      "cell_type": "markdown",
      "source": [
        "Now we import `rlcard` and `DQNAgent`. The `DQNAgent` will learn how to win the game."
      ],
      "metadata": {
        "id": "2bt-JVoXyTwM"
      }
    },
    {
      "cell_type": "code",
      "metadata": {
        "id": "4_A_Br3Jj0xW"
      },
      "source": [
        "import rlcard\n",
        "from rlcard.agents import DQNAgent"
      ],
      "execution_count": null,
      "outputs": []
    },
    {
      "cell_type": "markdown",
      "metadata": {
        "id": "N2ltkfinYmiU"
      },
      "source": [
        "Let's create the Blackjack environment and and take a look at it."
      ]
    },
    {
      "cell_type": "code",
      "metadata": {
        "id": "l_8Kuf47kghG",
        "colab": {
          "base_uri": "https://localhost:8080/"
        },
        "outputId": "177c5020-2885-465b-9648-40c1ddcd6c06"
      },
      "source": [
        "env = rlcard.make(\"blackjack\")\n",
        "print(\"Number of actions:\", env.num_actions)\n",
        "print(\"Number of players:\", env.num_players)\n",
        "print(\"Shape of state:\", env.state_shape)\n",
        "print(\"Shape of action:\", env.action_shape)"
      ],
      "execution_count": null,
      "outputs": [
        {
          "output_type": "stream",
          "name": "stdout",
          "text": [
            "Number of actions: 2\n",
            "Number of players: 1\n",
            "Shape of state: [[2]]\n",
            "Shape of action: [None]\n"
          ]
        }
      ]
    },
    {
      "cell_type": "markdown",
      "source": [
        "Blackjack is a very simple game with only two possible actions. There is only one player. It's it time to our DQN to master this game! We first create a DQNAgent."
      ],
      "metadata": {
        "id": "W2vJYyyqzVj3"
      }
    },
    {
      "cell_type": "code",
      "metadata": {
        "id": "8bqfMncnJTYU"
      },
      "source": [
        "agent = DQNAgent(\n",
        "    num_actions=env.num_actions,\n",
        "    state_shape=env.state_shape[0],\n",
        "    mlp_layers=[64,64],\n",
        ")"
      ],
      "execution_count": null,
      "outputs": []
    },
    {
      "cell_type": "markdown",
      "source": [
        "Here, we use a 64-64 deep neural network to learn. Then we pass the DQNAgent to the environment."
      ],
      "metadata": {
        "id": "tJVGcqYhzvyG"
      }
    },
    {
      "cell_type": "code",
      "source": [
        "env.set_agents([agent])"
      ],
      "metadata": {
        "id": "5JEwJb_Oztut"
      },
      "execution_count": null,
      "outputs": []
    },
    {
      "cell_type": "markdown",
      "source": [
        "Now we are ready to train! We first import some useful classes and functions for training."
      ],
      "metadata": {
        "id": "zy_sHLKf0TVl"
      }
    },
    {
      "cell_type": "code",
      "metadata": {
        "id": "GhgGYyick13x"
      },
      "source": [
        "from rlcard.utils import (\n",
        "    tournament,\n",
        "    reorganize,\n",
        "    Logger,\n",
        "    plot_curve,\n",
        ")"
      ],
      "execution_count": null,
      "outputs": []
    },
    {
      "cell_type": "markdown",
      "source": [
        "Then start the training and log the performance with our `Logger`. The script below will trian DQN for 1000 epochs (i.e., 1000 games). Usually, the agent will become stronger if trained longer."
      ],
      "metadata": {
        "id": "w2bT6ETj04Hq"
      }
    },
    {
      "cell_type": "code",
      "metadata": {
        "id": "rYAj8Q22k5e2",
        "outputId": "e43b29b2-553a-4c17-e3b3-166910af9c42",
        "colab": {
          "base_uri": "https://localhost:8080/"
        }
      },
      "source": [
        "with Logger(\"experiments/leduc_holdem_dqn_result/\") as logger:\n",
        "    for episode in range(1000):\n",
        "\n",
        "        # Generate data from the environment\n",
        "        trajectories, payoffs = env.run(is_training=True)\n",
        "\n",
        "        # Reorganaize the data to be state, action, reward, next_state, done\n",
        "        trajectories = reorganize(trajectories, payoffs)\n",
        "\n",
        "        # Feed transitions into agent memory, and train the agent\n",
        "        for ts in trajectories[0]:\n",
        "            agent.feed(ts)\n",
        "\n",
        "        # Evaluate the performance.\n",
        "        if episode % 50 == 0:\n",
        "            logger.log_performance(\n",
        "                env.timestep,\n",
        "                tournament(\n",
        "                    env,\n",
        "                    10000,\n",
        "                )[0]\n",
        "            )\n",
        "\n",
        "    # Get the paths\n",
        "    csv_path, fig_path = logger.csv_path, logger.fig_path"
      ],
      "execution_count": null,
      "outputs": [
        {
          "output_type": "stream",
          "name": "stdout",
          "text": [
            "\n",
            "----------------------------------------\n",
            "  timestep     |  552308\n",
            "  reward       |  -1.0\n",
            "----------------------------------------\n",
            "\n",
            "----------------------------------------\n",
            "  timestep     |  571353\n",
            "  reward       |  -1.0\n",
            "----------------------------------------\n",
            "INFO - Step 100, rl-loss: 1.7699662446975708\n",
            "INFO - Copied model parameters to target network.\n",
            "INFO - Step 142, rl-loss: 1.4145885705947876\n",
            "----------------------------------------\n",
            "  timestep     |  590632\n",
            "  reward       |  -0.8554\n",
            "----------------------------------------\n",
            "INFO - Step 210, rl-loss: 1.2130974531173706\n",
            "----------------------------------------\n",
            "  timestep     |  608418\n",
            "  reward       |  -0.7016\n",
            "----------------------------------------\n",
            "INFO - Step 280, rl-loss: 1.1429738998413086\n",
            "----------------------------------------\n",
            "  timestep     |  625811\n",
            "  reward       |  -0.6066\n",
            "----------------------------------------\n",
            "INFO - Step 348, rl-loss: 0.9004282355308533\n",
            "----------------------------------------\n",
            "  timestep     |  642940\n",
            "  reward       |  -0.4844\n",
            "----------------------------------------\n",
            "INFO - Step 413, rl-loss: 0.6521245837211609\n",
            "----------------------------------------\n",
            "  timestep     |  659822\n",
            "  reward       |  -0.365\n",
            "----------------------------------------\n",
            "INFO - Step 480, rl-loss: 0.840827465057373\n",
            "----------------------------------------\n",
            "  timestep     |  676163\n",
            "  reward       |  -0.085\n",
            "----------------------------------------\n",
            "INFO - Step 553, rl-loss: 0.5684747099876404\n",
            "----------------------------------------\n",
            "  timestep     |  691722\n",
            "  reward       |  -0.0584\n",
            "----------------------------------------\n",
            "INFO - Step 624, rl-loss: 0.8044297099113464\n",
            "----------------------------------------\n",
            "  timestep     |  706931\n",
            "  reward       |  -0.0619\n",
            "----------------------------------------\n",
            "INFO - Step 691, rl-loss: 0.5927526354789734\n",
            "----------------------------------------\n",
            "  timestep     |  721525\n",
            "  reward       |  -0.0763\n",
            "----------------------------------------\n",
            "INFO - Step 757, rl-loss: 0.8437865376472473\n",
            "----------------------------------------\n",
            "  timestep     |  736157\n",
            "  reward       |  -0.0601\n",
            "----------------------------------------\n",
            "INFO - Step 828, rl-loss: 0.561453640460968\n",
            "----------------------------------------\n",
            "  timestep     |  750661\n",
            "  reward       |  -0.0781\n",
            "----------------------------------------\n",
            "INFO - Step 899, rl-loss: 0.7222794890403748\n",
            "----------------------------------------\n",
            "  timestep     |  764648\n",
            "  reward       |  -0.0693\n",
            "----------------------------------------\n",
            "INFO - Step 972, rl-loss: 0.4520031809806824\n",
            "----------------------------------------\n",
            "  timestep     |  778987\n",
            "  reward       |  -0.0774\n",
            "----------------------------------------\n",
            "INFO - Step 1040, rl-loss: 0.5117819309234619\n",
            "----------------------------------------\n",
            "  timestep     |  793088\n",
            "  reward       |  -0.0543\n",
            "----------------------------------------\n",
            "INFO - Step 1100, rl-loss: 0.4985390901565552\n",
            "INFO - Copied model parameters to target network.\n",
            "INFO - Step 1116, rl-loss: 0.6727216243743896\n",
            "----------------------------------------\n",
            "  timestep     |  807093\n",
            "  reward       |  -0.0829\n",
            "----------------------------------------\n",
            "INFO - Step 1183, rl-loss: 0.681004524230957\n",
            "----------------------------------------\n",
            "  timestep     |  820958\n",
            "  reward       |  -0.0615\n",
            "----------------------------------------\n",
            "INFO - Step 1256, rl-loss: 0.6855602264404297\n",
            "----------------------------------------\n",
            "  timestep     |  834715\n",
            "  reward       |  -0.0823\n",
            "----------------------------------------\n",
            "INFO - Step 1329, rl-loss: 0.5815291404724121\n",
            "----------------------------------------\n",
            "  timestep     |  848487\n",
            "  reward       |  -0.0985\n",
            "----------------------------------------\n",
            "INFO - Step 1393, rl-loss: 0.6741513013839722\n",
            "Logs saved in experiments/leduc_holdem_dqn_result/\n"
          ]
        }
      ]
    },
    {
      "cell_type": "markdown",
      "source": [
        "Now we plot the learning curves to monitor how the agent gets improved!"
      ],
      "metadata": {
        "id": "rbIiQS3K2R0u"
      }
    },
    {
      "cell_type": "code",
      "metadata": {
        "id": "06n2QSTDIqb0",
        "outputId": "4536c8af-e4ca-489e-c7fd-4d32c839f81c",
        "colab": {
          "base_uri": "https://localhost:8080/",
          "height": 279
        }
      },
      "source": [
        "plot_curve(csv_path, fig_path, \"DQN\")"
      ],
      "execution_count": null,
      "outputs": [
        {
          "output_type": "display_data",
          "data": {
            "text/plain": [
              "<Figure size 432x288 with 1 Axes>"
            ],
            "image/png": "[encoded data removed]"
          },
          "metadata": {
            "needs_background": "light"
          }
        }
      ]
    },
    {
      "cell_type": "markdown",
      "metadata": {
        "id": "rtJ7xdSIaPw3"
      },
      "source": [
        "You can find that the agent achieves a better and better performance with more training. All the logs and the model weights are saved in `experiments/leduc_holdem_dqn_result/`. Now you have your trained DQN agent on Blackjack!"
      ]
    }
  ]
}